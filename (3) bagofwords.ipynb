{
  "nbformat": 4,
  "nbformat_minor": 0,
  "metadata": {
    "colab": {
      "name": "bagofwords.ipynb",
      "provenance": []
    },
    "kernelspec": {
      "name": "python3",
      "display_name": "Python 3"
    },
    "language_info": {
      "name": "python"
    }
  },
  "cells": [
    {
      "cell_type": "code",
      "metadata": {
        "colab": {
          "base_uri": "https://localhost:8080/"
        },
        "id": "Yeno4-TJ1pPm",
        "outputId": "1860a8bf-5c07-4901-95b8-2b6b02eb1b24"
      },
      "source": [
        "import nltk\n",
        "nltk.download('punkt')\n",
        "\n",
        "paragraph =  \"\"\"In Harry’s world fate works not only through powers and objects such as prophecies,\n",
        " the Sorting Hat, wands, and the Goblet of Fire, but also through people. Repeatedly, other characters \n",
        " decide Harry’s future for him, depriving him of freedom and choice. For example, before his eleventh \n",
        " birthday, the Dursleys control Harry’s life, keeping from him knowledge of his past and understanding \n",
        " of his identity (Sorcerer’s 49). In Harry Potter and the Chamber of Secrets, Dobby repeatedly assumes \n",
        " control over events by intercepting Ron’s and Hermione’s letters during the summer; by sealing the barrier \n",
        " to Platform 93⁄4, causing Harry to miss the Hogwarts Express; and by sending a Bludger after Harry in a \n",
        " Quidditch match, breaking his wrist. Yet again, in Harry Potter and the Prisoner of Azkaban, many adults\n",
        "  intercede while attempting to protect Harry from perceived danger, as Snape observes: “Everyone from the\n",
        "   Minister of Magic downward has been trying to keep famous Harry Potter safe from Sirius Black” (284). \n",
        "   All these characters, as enactors of fate, unknowingly drive Harry toward his destiny by attempting to \n",
        "   control or to direct his life, while themselves controlled and directed by fate.\"\"\"\n",
        "               \n",
        "               \n"
      ],
      "execution_count": 2,
      "outputs": [
        {
          "output_type": "stream",
          "text": [
            "[nltk_data] Downloading package punkt to /root/nltk_data...\n",
            "[nltk_data]   Unzipping tokenizers/punkt.zip.\n"
          ],
          "name": "stdout"
        }
      ]
    },
    {
      "cell_type": "code",
      "metadata": {
        "id": "_yHEMFeA27nW"
      },
      "source": [
        "# Cleaning the texts\n",
        "import re\n",
        "from nltk.corpus import stopwords\n",
        "from nltk.stem.porter import PorterStemmer\n",
        "from nltk.stem import WordNetLemmatizer\n"
      ],
      "execution_count": 3,
      "outputs": []
    },
    {
      "cell_type": "code",
      "metadata": {
        "colab": {
          "base_uri": "https://localhost:8080/"
        },
        "id": "e695DneB3JdT",
        "outputId": "e5a9df85-a3c9-4810-e87e-2bcd45e527bf"
      },
      "source": [
        "nltk.download(\"stopwords\") "
      ],
      "execution_count": 5,
      "outputs": [
        {
          "output_type": "stream",
          "text": [
            "[nltk_data] Downloading package stopwords to /root/nltk_data...\n",
            "[nltk_data]   Unzipping corpora/stopwords.zip.\n"
          ],
          "name": "stdout"
        },
        {
          "output_type": "execute_result",
          "data": {
            "text/plain": [
              "True"
            ]
          },
          "metadata": {
            "tags": []
          },
          "execution_count": 5
        }
      ]
    },
    {
      "cell_type": "code",
      "metadata": {
        "id": "V5LlrNZ93G47"
      },
      "source": [
        "\n",
        "pstem = PorterStemmer()\n",
        "wordlimet=WordNetLemmatizer()\n",
        "sent = nltk.sent_tokenize(paragraph)\n",
        "corpus = [] # for saving the words \n",
        "for i in range(len(sent)):\n",
        "    review = re.sub('[^a-zA-Z]', ' ', sent[i]) # filter only the aphabet A to Z capital small both \n",
        "    lower = review.lower() # converting to lower case alphabet\n",
        "    split = lower.split() # spliting the alphabets \n",
        "    stemm= [pstem.stem(word) for word in split if not word in set(stopwords.words('english'))] # Stemming the words \n",
        "    join = ' '.join(stemm) # combing \n",
        "    corpus.append(join) # saving in the corpus list \n",
        "    \n"
      ],
      "execution_count": 7,
      "outputs": []
    },
    {
      "cell_type": "code",
      "metadata": {
        "id": "zzKZkjn33LTz"
      },
      "source": [
        "# Creating the Bag of Words model\n",
        "from sklearn.feature_extraction.text import CountVectorizer # converting text to vector \n",
        "cv = CountVectorizer(max_features = 1500) # intializing here \n",
        "X = cv.fit_transform(corpus).toarray() # conversion"
      ],
      "execution_count": 8,
      "outputs": []
    },
    {
      "cell_type": "code",
      "metadata": {
        "id": "5_KL8mKd3pUk"
      },
      "source": [
        ""
      ],
      "execution_count": null,
      "outputs": []
    }
  ]
}